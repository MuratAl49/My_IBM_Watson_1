{
    "cells": [
        {
            "metadata": {
                "collapsed": true
            },
            "cell_type": "markdown",
            "source": "#  Tools for Data Science\n\n## Summary\n\nThis course covers the major tools used in the *Data Science* field.\nGives little bit of into level information and also allows the participants to set up their own accounts on **IBM Watson Studios** and **GitHub** which are the two important resources and collaboration platforms.\nEach section had an hans-on practice assignments which guides the student step by step towards completion of the using the basic tool features."
        },
        {
            "metadata": {},
            "cell_type": "markdown",
            "source": "## List of the Tools \n\n  * [IBM Watson Studios] *Account Setup and Using Tutorial*\n  *Jupyter Notebook\n  *IBM Watson Modeller  \n  *IBM SPSS *Modeller*  \n  *IBM SPSS *Statistics*  \n  *GitHub _Setup_\n  *SSH Terminal \n\n[IBM Watson Studios]: https://dataplatform.cloud.ibm.com/\n[1]:https://github.com/adam-p/markdown-here/wiki/Markdown-Cheatsheet"
        },
        {
            "metadata": {},
            "cell_type": "code",
            "source": "# This is a sample code  to find the *factorial of a number* provided by the user.\n\nnum = int(input(\"Enter a number: \"))\n\nfactorial = 1\n\n# check if the number is negative, positive or zero\nif num < 0:\n   print(\"Sorry, factorial does not exist for negative numbers\")\nelif num == 0:\n   print(\"The factorial of 0 is 1\")\nelse:\n   for i in range(1,num + 1):\n       factorial = factorial*i\n   print(\"The factorial of\",num,\"is\",factorial)\n",
            "execution_count": null,
            "outputs": []
        },
        {
            "metadata": {},
            "cell_type": "code",
            "source": "",
            "execution_count": null,
            "outputs": []
        }
    ],
    "metadata": {
        "kernelspec": {
            "name": "python3",
            "display_name": "Python 3.7",
            "language": "python"
        },
        "language_info": {
            "name": "python",
            "version": "3.7.9",
            "mimetype": "text/x-python",
            "codemirror_mode": {
                "name": "ipython",
                "version": 3
            },
            "pygments_lexer": "ipython3",
            "nbconvert_exporter": "python",
            "file_extension": ".py"
        }
    },
    "nbformat": 4,
    "nbformat_minor": 1
}